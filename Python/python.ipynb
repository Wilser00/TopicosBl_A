{
 "cells": [
  {
   "cell_type": "markdown",
   "id": "db24de91",
   "metadata": {},
   "source": [
    "# Python for big dat\n",
    "1. Variables \n",
    "2. String\n",
    "3. Fuction print \n",
    "4. Boleanos y condicionales \n",
    "5. Foops\n",
    "6. Fuctions\n",
    "7. Manejo de excepciones  \n"
   ]
  },
  {
   "cell_type": "markdown",
   "id": "8f61d727",
   "metadata": {},
   "source": [
    "* 1. Variables "
   ]
  },
  {
   "cell_type": "code",
   "execution_count": 21,
   "id": "302d8a32",
   "metadata": {},
   "outputs": [],
   "source": [
    "# Declarando variables \n",
    "monto_deuda=1000;\n",
    "moneda =\"Soles\";"
   ]
  },
  {
   "cell_type": "code",
   "execution_count": 22,
   "id": "2902add5",
   "metadata": {},
   "outputs": [],
   "source": [
    "monto_deuda;\n"
   ]
  },
  {
   "cell_type": "code",
   "execution_count": 23,
   "id": "e705bbbb",
   "metadata": {},
   "outputs": [],
   "source": [
    "moneda;"
   ]
  },
  {
   "cell_type": "code",
   "execution_count": null,
   "id": "faf98ba9",
   "metadata": {},
   "outputs": [],
   "source": [
    "# interactuar con el uusuario\n",
    "monto_interes=int(input(\"Ingrese el monto del interes: \"))"
   ]
  },
  {
   "cell_type": "code",
   "execution_count": null,
   "id": "fa33756b",
   "metadata": {},
   "outputs": [],
   "source": [
    "#Oprenado con variables \n",
    "resultado=monto_deuda*4;\n",
    "resultado;"
   ]
  },
  {
   "cell_type": "code",
   "execution_count": null,
   "id": "56c560f7",
   "metadata": {},
   "outputs": [],
   "source": [
    "# tipo de variables \n",
    "type(monto_deuda);"
   ]
  },
  {
   "cell_type": "code",
   "execution_count": null,
   "id": "56411a9b",
   "metadata": {},
   "outputs": [],
   "source": [
    "type(moneda);"
   ]
  },
  {
   "cell_type": "code",
   "execution_count": null,
   "id": "1e687925",
   "metadata": {},
   "outputs": [],
   "source": [
    "4*resultado;"
   ]
  },
  {
   "cell_type": "code",
   "execution_count": null,
   "id": "b6b825d2",
   "metadata": {},
   "outputs": [],
   "source": [
    "# \n",
    "str_monto_deuda=str(monto_deuda); \n",
    "str_monto_deuda; "
   ]
  },
  {
   "cell_type": "code",
   "execution_count": null,
   "id": "937d7997",
   "metadata": {},
   "outputs": [],
   "source": []
  },
  {
   "cell_type": "markdown",
   "id": "d616d427",
   "metadata": {},
   "source": [
    "# 2. String "
   ]
  },
  {
   "cell_type": "code",
   "execution_count": null,
   "id": "6fbf302d",
   "metadata": {},
   "outputs": [],
   "source": [
    "# Conctenar\n",
    "'Ho' + 'la'; "
   ]
  },
  {
   "cell_type": "code",
   "execution_count": null,
   "id": "aba4f027",
   "metadata": {},
   "outputs": [],
   "source": [
    "# Comillas simples y dobles\n",
    "text_1 = \"Mi primer mensaje\"\n",
    "text_2 = 'Mi segundo mensaje'"
   ]
  },
  {
   "cell_type": "code",
   "execution_count": null,
   "id": "9fc00ec2",
   "metadata": {},
   "outputs": [],
   "source": [
    "text_1"
   ]
  },
  {
   "cell_type": "code",
   "execution_count": null,
   "id": "f6309a94",
   "metadata": {},
   "outputs": [],
   "source": [
    "text_2"
   ]
  },
  {
   "cell_type": "code",
   "execution_count": null,
   "id": "88b3798b",
   "metadata": {},
   "outputs": [],
   "source": [
    "# comillas triples\n",
    "consulta = \"\"\"SEELCT * FROM USERS \n",
    "WHERE ID = 8\n",
    "GROUP BY ADMIN;\"\"\"\n"
   ]
  },
  {
   "cell_type": "code",
   "execution_count": 2,
   "id": "77616973",
   "metadata": {},
   "outputs": [],
   "source": [
    "# OPeraciones con strings\n",
    "cdena1 = \"Hola mundo\"\n",
    "cdena2 = \"5\"\n",
    "cadena3 = \"cinco\""
   ]
  },
  {
   "cell_type": "code",
   "execution_count": 8,
   "id": "205cb4a0",
   "metadata": {},
   "outputs": [
    {
     "ename": "NameError",
     "evalue": "name 'cadena1' is not defined",
     "output_type": "error",
     "traceback": [
      "\u001b[31m---------------------------------------------------------------------------\u001b[39m",
      "\u001b[31mNameError\u001b[39m                                 Traceback (most recent call last)",
      "\u001b[36mCell\u001b[39m\u001b[36m \u001b[39m\u001b[32mIn[8]\u001b[39m\u001b[32m, line 1\u001b[39m\n\u001b[32m----> \u001b[39m\u001b[32m1\u001b[39m \u001b[43mcadena1\u001b[49m.capitalize();\n",
      "\u001b[31mNameError\u001b[39m: name 'cadena1' is not defined"
     ]
    }
   ],
   "source": [
    "cadena1.capitalize();\n"
   ]
  },
  {
   "cell_type": "code",
   "execution_count": 6,
   "id": "47f6aa6c",
   "metadata": {},
   "outputs": [],
   "source": [
    "cadena3.upper();"
   ]
  },
  {
   "cell_type": "code",
   "execution_count": 7,
   "id": "c127992b",
   "metadata": {},
   "outputs": [],
   "source": [
    "cadena3.lower();\n"
   ]
  },
  {
   "cell_type": "code",
   "execution_count": null,
   "id": "96611df1",
   "metadata": {},
   "outputs": [],
   "source": [
    "cadena1.title();"
   ]
  },
  {
   "cell_type": "code",
   "execution_count": null,
   "id": "e1253009",
   "metadata": {},
   "outputs": [],
   "source": [
    "cadena1.split();"
   ]
  },
  {
   "cell_type": "code",
   "execution_count": null,
   "id": "bb0a1fbe",
   "metadata": {},
   "outputs": [],
   "source": [
    "cadena1.count(\"o\");"
   ]
  },
  {
   "cell_type": "code",
   "execution_count": null,
   "id": "e7e080fa",
   "metadata": {},
   "outputs": [],
   "source": [
    "# quitar letra cadena\n",
    "cadena1.split(\"m\");\n"
   ]
  },
  {
   "cell_type": "code",
   "execution_count": null,
   "id": "e5a968af",
   "metadata": {},
   "outputs": [],
   "source": [
    "# limpiando extremos de un string \n",
    "cadena4= '(Hola mundo)'\n",
    "cadena4.strip();"
   ]
  },
  {
   "cell_type": "code",
   "execution_count": null,
   "id": "02e519e3",
   "metadata": {},
   "outputs": [],
   "source": [
    "cadena4.strip('()');\n"
   ]
  },
  {
   "cell_type": "code",
   "execution_count": null,
   "id": "2dc0a0dd",
   "metadata": {},
   "outputs": [],
   "source": [
    "# Reemplazar un string \n",
    "cadena5='Hola mundo '\n",
    "cadena5=replace('mundo','Hi');"
   ]
  }
 ],
 "metadata": {
  "kernelspec": {
   "display_name": "mainenv",
   "language": "python",
   "name": "python3"
  },
  "language_info": {
   "codemirror_mode": {
    "name": "ipython",
    "version": 3
   },
   "file_extension": ".py",
   "mimetype": "text/x-python",
   "name": "python",
   "nbconvert_exporter": "python",
   "pygments_lexer": "ipython3",
   "version": "3.13.5"
  }
 },
 "nbformat": 4,
 "nbformat_minor": 5
}
