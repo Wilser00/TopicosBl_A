{
 "cells": [
  {
   "cell_type": "markdown",
   "id": "db24de91",
   "metadata": {},
   "source": [
    "# Python for big dat\n",
    "1. Variables \n",
    "2. String\n",
    "3. Fuction print \n",
    "4. Boleanos y condicionales \n",
    "5. Foops\n",
    "6. Fuctions\n",
    "7. Manejo de excepciones  \n"
   ]
  },
  {
   "cell_type": "markdown",
   "id": "8f61d727",
   "metadata": {},
   "source": [
    "* 1. Variables "
   ]
  },
  {
   "cell_type": "code",
   "execution_count": 2,
   "id": "302d8a32",
   "metadata": {},
   "outputs": [],
   "source": [
    "# Declarando variables \n",
    "monto_deuda=1000;\n",
    "moneda =\"Soles\";"
   ]
  },
  {
   "cell_type": "code",
   "execution_count": 3,
   "id": "2902add5",
   "metadata": {},
   "outputs": [
    {
     "data": {
      "text/plain": [
       "1000"
      ]
     },
     "execution_count": 3,
     "metadata": {},
     "output_type": "execute_result"
    }
   ],
   "source": [
    "monto_deuda\n"
   ]
  },
  {
   "cell_type": "code",
   "execution_count": 4,
   "id": "e705bbbb",
   "metadata": {},
   "outputs": [
    {
     "data": {
      "text/plain": [
       "'Soles'"
      ]
     },
     "execution_count": 4,
     "metadata": {},
     "output_type": "execute_result"
    }
   ],
   "source": [
    "moneda"
   ]
  },
  {
   "cell_type": "code",
   "execution_count": null,
   "id": "faf98ba9",
   "metadata": {},
   "outputs": [],
   "source": [
    "# interactuar con el uusuario\n",
    "monto_interes=int(input(\"Ingrese el monto del interes: \"))"
   ]
  },
  {
   "cell_type": "code",
   "execution_count": 5,
   "id": "fa33756b",
   "metadata": {},
   "outputs": [
    {
     "data": {
      "text/plain": [
       "4000"
      ]
     },
     "execution_count": 5,
     "metadata": {},
     "output_type": "execute_result"
    }
   ],
   "source": [
    "#Oprenado con variables \n",
    "resultado=monto_deuda*4\n",
    "resultado"
   ]
  },
  {
   "cell_type": "code",
   "execution_count": 7,
   "id": "56c560f7",
   "metadata": {},
   "outputs": [
    {
     "data": {
      "text/plain": [
       "int"
      ]
     },
     "execution_count": 7,
     "metadata": {},
     "output_type": "execute_result"
    }
   ],
   "source": [
    "# tipo de variables \n",
    "type(monto_deuda)"
   ]
  },
  {
   "cell_type": "code",
   "execution_count": 9,
   "id": "56411a9b",
   "metadata": {},
   "outputs": [
    {
     "data": {
      "text/plain": [
       "str"
      ]
     },
     "execution_count": 9,
     "metadata": {},
     "output_type": "execute_result"
    }
   ],
   "source": [
    "type(moneda)"
   ]
  },
  {
   "cell_type": "code",
   "execution_count": 10,
   "id": "1e687925",
   "metadata": {},
   "outputs": [
    {
     "data": {
      "text/plain": [
       "16000"
      ]
     },
     "execution_count": 10,
     "metadata": {},
     "output_type": "execute_result"
    }
   ],
   "source": [
    "4*resultado"
   ]
  },
  {
   "cell_type": "code",
   "execution_count": 12,
   "id": "b6b825d2",
   "metadata": {},
   "outputs": [
    {
     "data": {
      "text/plain": [
       "'1000'"
      ]
     },
     "execution_count": 12,
     "metadata": {},
     "output_type": "execute_result"
    }
   ],
   "source": [
    "# \n",
    "str_monto_deuda=str(monto_deuda)\n",
    "str_monto_deuda"
   ]
  },
  {
   "cell_type": "code",
   "execution_count": null,
   "id": "937d7997",
   "metadata": {},
   "outputs": [],
   "source": []
  },
  {
   "cell_type": "markdown",
   "id": "d616d427",
   "metadata": {},
   "source": [
    "# 2. String "
   ]
  },
  {
   "cell_type": "code",
   "execution_count": 14,
   "id": "6fbf302d",
   "metadata": {},
   "outputs": [
    {
     "data": {
      "text/plain": [
       "'Hola'"
      ]
     },
     "execution_count": 14,
     "metadata": {},
     "output_type": "execute_result"
    }
   ],
   "source": [
    "# Conctenar\n",
    "'Ho' + 'la'"
   ]
  },
  {
   "cell_type": "code",
   "execution_count": 15,
   "id": "aba4f027",
   "metadata": {},
   "outputs": [],
   "source": [
    "# Comillas simples y dobles\n",
    "text_1 = \"Mi primer mensaje\"\n",
    "text_2 = 'Mi segundo mensaje'"
   ]
  },
  {
   "cell_type": "code",
   "execution_count": 16,
   "id": "9fc00ec2",
   "metadata": {},
   "outputs": [
    {
     "data": {
      "text/plain": [
       "'Mi primer mensaje'"
      ]
     },
     "execution_count": 16,
     "metadata": {},
     "output_type": "execute_result"
    }
   ],
   "source": [
    "text_1"
   ]
  },
  {
   "cell_type": "code",
   "execution_count": 17,
   "id": "f6309a94",
   "metadata": {},
   "outputs": [
    {
     "data": {
      "text/plain": [
       "'Mi segundo mensaje'"
      ]
     },
     "execution_count": 17,
     "metadata": {},
     "output_type": "execute_result"
    }
   ],
   "source": [
    "text_2"
   ]
  },
  {
   "cell_type": "code",
   "execution_count": 19,
   "id": "88b3798b",
   "metadata": {},
   "outputs": [],
   "source": [
    "# comillas triples\n",
    "consulta = \"\"\"SEELCT * FROM USERS \n",
    "WHERE ID = 8\n",
    "GROUP BY ADMIN \"\"\"\n"
   ]
  },
  {
   "cell_type": "code",
   "execution_count": 25,
   "id": "77616973",
   "metadata": {},
   "outputs": [],
   "source": [
    "# OPeraciones con strings\n",
    "cdena1 = \"Hola mundo\"\n",
    "cdena2 = \"5\"\n",
    "cadena3 = \"cinco\""
   ]
  },
  {
   "cell_type": "code",
   "execution_count": 27,
   "id": "205cb4a0",
   "metadata": {},
   "outputs": [
    {
     "data": {
      "text/plain": [
       "'Hola mundo'"
      ]
     },
     "execution_count": 27,
     "metadata": {},
     "output_type": "execute_result"
    }
   ],
   "source": [
    "cdena1.capitalize()\n"
   ]
  },
  {
   "cell_type": "code",
   "execution_count": 23,
   "id": "47f6aa6c",
   "metadata": {},
   "outputs": [
    {
     "data": {
      "text/plain": [
       "'CINCO'"
      ]
     },
     "execution_count": 23,
     "metadata": {},
     "output_type": "execute_result"
    }
   ],
   "source": [
    "cadena3.upper()"
   ]
  },
  {
   "cell_type": "code",
   "execution_count": 28,
   "id": "c127992b",
   "metadata": {},
   "outputs": [
    {
     "data": {
      "text/plain": [
       "'cinco'"
      ]
     },
     "execution_count": 28,
     "metadata": {},
     "output_type": "execute_result"
    }
   ],
   "source": [
    "cadena3.lower()\n"
   ]
  },
  {
   "cell_type": "code",
   "execution_count": 30,
   "id": "96611df1",
   "metadata": {},
   "outputs": [
    {
     "data": {
      "text/plain": [
       "'Hola Mundo'"
      ]
     },
     "execution_count": 30,
     "metadata": {},
     "output_type": "execute_result"
    }
   ],
   "source": [
    "cdena1.title()"
   ]
  },
  {
   "cell_type": "code",
   "execution_count": 31,
   "id": "e1253009",
   "metadata": {},
   "outputs": [],
   "source": [
    "cdena1.split();"
   ]
  },
  {
   "cell_type": "code",
   "execution_count": 33,
   "id": "bb0a1fbe",
   "metadata": {},
   "outputs": [
    {
     "data": {
      "text/plain": [
       "2"
      ]
     },
     "execution_count": 33,
     "metadata": {},
     "output_type": "execute_result"
    }
   ],
   "source": [
    "cdena1.count(\"o\")"
   ]
  },
  {
   "cell_type": "code",
   "execution_count": 35,
   "id": "e7e080fa",
   "metadata": {},
   "outputs": [
    {
     "data": {
      "text/plain": [
       "['Hola ', 'undo']"
      ]
     },
     "execution_count": 35,
     "metadata": {},
     "output_type": "execute_result"
    }
   ],
   "source": [
    "# quitar letra cadena\n",
    "cdena1.split(\"m\")\n"
   ]
  },
  {
   "cell_type": "code",
   "execution_count": 19,
   "id": "e5a968af",
   "metadata": {},
   "outputs": [
    {
     "data": {
      "text/plain": [
       "'(Hola mundo)'"
      ]
     },
     "execution_count": 19,
     "metadata": {},
     "output_type": "execute_result"
    }
   ],
   "source": [
    "# limpiando extremos de un string \n",
    "cadena4= '(Hola mundo)'\n",
    "cadena4.strip()"
   ]
  },
  {
   "cell_type": "code",
   "execution_count": 40,
   "id": "02e519e3",
   "metadata": {},
   "outputs": [
    {
     "data": {
      "text/plain": [
       "'Hola mundo'"
      ]
     },
     "execution_count": 40,
     "metadata": {},
     "output_type": "execute_result"
    }
   ],
   "source": [
    "cadena4.strip('()')\n"
   ]
  },
  {
   "cell_type": "code",
   "execution_count": 3,
   "id": "2dc0a0dd",
   "metadata": {},
   "outputs": [
    {
     "data": {
      "text/plain": [
       "'Hi mundo '"
      ]
     },
     "execution_count": 3,
     "metadata": {},
     "output_type": "execute_result"
    }
   ],
   "source": [
    "# Reemplazar un string \n",
    "cadena5='Hola mundo '\n",
    "cadena5=cadena5.replace('Hola','Hi')\n",
    "cadena5"
   ]
  },
  {
   "cell_type": "code",
   "execution_count": 6,
   "id": "d031e51f",
   "metadata": {},
   "outputs": [
    {
     "data": {
      "text/plain": [
       "7"
      ]
     },
     "execution_count": 6,
     "metadata": {},
     "output_type": "execute_result"
    }
   ],
   "source": [
    "cadena5.index('o', 0)"
   ]
  },
  {
   "cell_type": "code",
   "execution_count": 9,
   "id": "8790f42b",
   "metadata": {},
   "outputs": [
    {
     "data": {
      "text/plain": [
       "'m'"
      ]
     },
     "execution_count": 9,
     "metadata": {},
     "output_type": "execute_result"
    }
   ],
   "source": [
    "cadena5[3]"
   ]
  },
  {
   "cell_type": "code",
   "execution_count": 8,
   "id": "3660b750",
   "metadata": {},
   "outputs": [
    {
     "data": {
      "text/plain": [
       "'o'"
      ]
     },
     "execution_count": 8,
     "metadata": {},
     "output_type": "execute_result"
    }
   ],
   "source": [
    "cadena5[-2]"
   ]
  },
  {
   "cell_type": "code",
   "execution_count": 13,
   "id": "c9de7ffe",
   "metadata": {},
   "outputs": [
    {
     "name": "stdout",
     "output_type": "stream",
     "text": [
      "la mun\n"
     ]
    }
   ],
   "source": [
    "cadena5 = \"Hola mundo\"\n",
    "print(cadena5[2:-2])  \n"
   ]
  },
  {
   "cell_type": "code",
   "execution_count": 17,
   "id": "d42828b1",
   "metadata": {},
   "outputs": [
    {
     "data": {
      "text/plain": [
       "'odnum aloH'"
      ]
     },
     "execution_count": 17,
     "metadata": {},
     "output_type": "execute_result"
    }
   ],
   "source": [
    "cadena5[::-1]\n"
   ]
  },
  {
   "cell_type": "code",
   "execution_count": 20,
   "id": "66d2d7e2",
   "metadata": {},
   "outputs": [
    {
     "data": {
      "text/plain": [
       "['HOLA', 'MUNDO']"
      ]
     },
     "execution_count": 20,
     "metadata": {},
     "output_type": "execute_result"
    }
   ],
   "source": [
    "cadena4.strip('(), ').upper().split()"
   ]
  },
  {
   "cell_type": "code",
   "execution_count": null,
   "id": "cc8d1ec1",
   "metadata": {},
   "outputs": [
    {
     "data": {
      "text/plain": [
       "'HolaWilser, bienvenido al curso de Topicos en Inteligencia de Negocios '"
      ]
     },
     "execution_count": 21,
     "metadata": {},
     "output_type": "execute_result"
    }
   ],
   "source": [
    "#Python \n",
    "nombre='Wilser'\n",
    "curso='Topicos en Inteligencia de Negocios '\n",
    "f'Hola {nombre}, bienvenido al curso de {curso}'"
   ]
  },
  {
   "cell_type": "code",
   "execution_count": 22,
   "id": "514963dd",
   "metadata": {},
   "outputs": [],
   "source": [
    "string_1 = \"Hola mundo\"\n",
    "string_2= '5'\n",
    "string_3='cinco'"
   ]
  },
  {
   "cell_type": "code",
   "execution_count": 23,
   "id": "715106e3",
   "metadata": {},
   "outputs": [
    {
     "data": {
      "text/plain": [
       "False"
      ]
     },
     "execution_count": 23,
     "metadata": {},
     "output_type": "execute_result"
    }
   ],
   "source": [
    "string_1.isdigit()"
   ]
  },
  {
   "cell_type": "code",
   "execution_count": 24,
   "id": "107ecab1",
   "metadata": {},
   "outputs": [
    {
     "data": {
      "text/plain": [
       "True"
      ]
     },
     "execution_count": 24,
     "metadata": {},
     "output_type": "execute_result"
    }
   ],
   "source": [
    "string_2.isdigit()"
   ]
  },
  {
   "cell_type": "code",
   "execution_count": 26,
   "id": "97db5cfe",
   "metadata": {},
   "outputs": [
    {
     "data": {
      "text/plain": [
       "True"
      ]
     },
     "execution_count": 26,
     "metadata": {},
     "output_type": "execute_result"
    }
   ],
   "source": [
    "string_3.isalpha()"
   ]
  },
  {
   "cell_type": "code",
   "execution_count": 27,
   "id": "2a1f347f",
   "metadata": {},
   "outputs": [
    {
     "data": {
      "text/plain": [
       "'abcdefghijklmnopqrstuvwxyzABCDEFGHIJKLMNOPQRSTUVWXYZ'"
      ]
     },
     "execution_count": 27,
     "metadata": {},
     "output_type": "execute_result"
    }
   ],
   "source": [
    "import string\n",
    "string.ascii_letters\n"
   ]
  },
  {
   "cell_type": "code",
   "execution_count": 28,
   "id": "e62edb96",
   "metadata": {},
   "outputs": [
    {
     "data": {
      "text/plain": [
       "'abcdefghijklmnopqrstuvwxyz'"
      ]
     },
     "execution_count": 28,
     "metadata": {},
     "output_type": "execute_result"
    }
   ],
   "source": [
    "string.ascii_lowercase"
   ]
  },
  {
   "cell_type": "code",
   "execution_count": 29,
   "id": "8953bfc4",
   "metadata": {},
   "outputs": [
    {
     "data": {
      "text/plain": [
       "'ABCDEFGHIJKLMNOPQRSTUVWXYZ'"
      ]
     },
     "execution_count": 29,
     "metadata": {},
     "output_type": "execute_result"
    }
   ],
   "source": [
    "string.ascii_uppercase"
   ]
  },
  {
   "cell_type": "markdown",
   "id": "033aded2",
   "metadata": {},
   "source": [
    "#Funcion Print"
   ]
  },
  {
   "cell_type": "code",
   "execution_count": 30,
   "id": "a41ff79f",
   "metadata": {},
   "outputs": [
    {
     "name": "stdout",
     "output_type": "stream",
     "text": [
      "Hola mundo\n"
     ]
    }
   ],
   "source": [
    "print (string_1)"
   ]
  },
  {
   "cell_type": "code",
   "execution_count": 31,
   "id": "eed23009",
   "metadata": {},
   "outputs": [
    {
     "name": "stdout",
     "output_type": "stream",
     "text": [
      "<class 'str'>\n"
     ]
    }
   ],
   "source": [
    "print(type(string_1))"
   ]
  },
  {
   "cell_type": "code",
   "execution_count": 32,
   "id": "feff06a5",
   "metadata": {},
   "outputs": [
    {
     "name": "stdout",
     "output_type": "stream",
     "text": [
      "<class 'int'>\n"
     ]
    }
   ],
   "source": [
    "print(type(5))   "
   ]
  },
  {
   "cell_type": "code",
   "execution_count": 33,
   "id": "b7812b4f",
   "metadata": {},
   "outputs": [
    {
     "name": "stdout",
     "output_type": "stream",
     "text": [
      "Mi nombre es :  Wilser\n",
      "Mi nombre es :  Wilser\n"
     ]
    }
   ],
   "source": [
    "print ('Mi nombre es : ', nombre)\n",
    "print ('Mi nombre es : ', (nombre))"
   ]
  },
  {
   "cell_type": "code",
   "execution_count": 40,
   "id": "6c5bd285",
   "metadata": {},
   "outputs": [
    {
     "name": "stdout",
     "output_type": "stream",
     "text": [
      "Los datos del curso son:\n",
      "curso \t\t: Topoicos en Inteligencia de Negocios  \n",
      "Ciclo  \t\t: sexto \n",
      "Tipo curso \t\t: electivo\n"
     ]
    }
   ],
   "source": [
    "print (\"Los datos del curso son:\\ncurso \\t\\t: Topoicos en Inteligencia de Negocios  \\nCiclo  \\t\\t: sexto \\nTipo curso \\t\\t: electivo\")"
   ]
  },
  {
   "cell_type": "markdown",
   "id": "4950c970",
   "metadata": {},
   "source": [
    "# 4. Boleanos y condicipnales"
   ]
  },
  {
   "cell_type": "code",
   "execution_count": 42,
   "id": "5a62808b",
   "metadata": {},
   "outputs": [
    {
     "name": "stdout",
     "output_type": "stream",
     "text": [
      "<class 'bool'>\n"
     ]
    }
   ],
   "source": [
    "final_page= True\n",
    "print(type(final_page))"
   ]
  },
  {
   "cell_type": "code",
   "execution_count": 44,
   "id": "3135e30d",
   "metadata": {},
   "outputs": [
    {
     "name": "stdout",
     "output_type": "stream",
     "text": [
      "Final de la pagina\n"
     ]
    }
   ],
   "source": [
    "if final_page:\n",
    "    print(\"Final de la pagina\")\n",
    "else:\n",
    "    print(\"Sigue la pagina\")\n"
   ]
  },
  {
   "cell_type": "code",
   "execution_count": 45,
   "id": "7f43a524",
   "metadata": {},
   "outputs": [
    {
     "data": {
      "text/plain": [
       "False"
      ]
     },
     "execution_count": 45,
     "metadata": {},
     "output_type": "execute_result"
    }
   ],
   "source": [
    "not True"
   ]
  },
  {
   "cell_type": "code",
   "execution_count": 46,
   "id": "9f4b0203",
   "metadata": {},
   "outputs": [
    {
     "data": {
      "text/plain": [
       "True"
      ]
     },
     "execution_count": 46,
     "metadata": {},
     "output_type": "execute_result"
    }
   ],
   "source": [
    "True and True"
   ]
  },
  {
   "cell_type": "code",
   "execution_count": 47,
   "id": "174f9c69",
   "metadata": {},
   "outputs": [
    {
     "data": {
      "text/plain": [
       "False"
      ]
     },
     "execution_count": 47,
     "metadata": {},
     "output_type": "execute_result"
    }
   ],
   "source": [
    "True and False"
   ]
  },
  {
   "cell_type": "code",
   "execution_count": 48,
   "id": "c32495a5",
   "metadata": {},
   "outputs": [
    {
     "data": {
      "text/plain": [
       "True"
      ]
     },
     "execution_count": 48,
     "metadata": {},
     "output_type": "execute_result"
    }
   ],
   "source": [
    "True or False"
   ]
  },
  {
   "cell_type": "code",
   "execution_count": 50,
   "id": "914914a1",
   "metadata": {},
   "outputs": [
    {
     "ename": "TypeError",
     "evalue": "'<' not supported between instances of 'int' and 'str'",
     "output_type": "error",
     "traceback": [
      "\u001b[31m---------------------------------------------------------------------------\u001b[39m",
      "\u001b[31mTypeError\u001b[39m                                 Traceback (most recent call last)",
      "\u001b[36mCell\u001b[39m\u001b[36m \u001b[39m\u001b[32mIn[50]\u001b[39m\u001b[32m, line 2\u001b[39m\n\u001b[32m      1\u001b[39m \u001b[38;5;66;03m#Comparacion \u001b[39;00m\n\u001b[32m----> \u001b[39m\u001b[32m2\u001b[39m \u001b[32;43m1\u001b[39;49m\u001b[43m \u001b[49m\u001b[43m<\u001b[49m\u001b[43m \u001b[49m\u001b[33;43m'\u001b[39;49m\u001b[33;43muno\u001b[39;49m\u001b[33;43m'\u001b[39;49m\n",
      "\u001b[31mTypeError\u001b[39m: '<' not supported between instances of 'int' and 'str'"
     ]
    }
   ],
   "source": [
    "#Comparacion \n",
    "1 < 'uno'"
   ]
  }
 ],
 "metadata": {
  "kernelspec": {
   "display_name": "mainenv",
   "language": "python",
   "name": "python3"
  },
  "language_info": {
   "codemirror_mode": {
    "name": "ipython",
    "version": 3
   },
   "file_extension": ".py",
   "mimetype": "text/x-python",
   "name": "python",
   "nbconvert_exporter": "python",
   "pygments_lexer": "ipython3",
   "version": "3.13.5"
  }
 },
 "nbformat": 4,
 "nbformat_minor": 5
}
