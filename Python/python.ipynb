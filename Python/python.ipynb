{
 "cells": [
  {
   "cell_type": "markdown",
   "id": "db24de91",
   "metadata": {},
   "source": [
    "# Python for big dat\n",
    "1. Variables \n",
    "2. String\n",
    "3. Fuction print \n",
    "4. Boleanos y condicionales \n",
    "5. Foops\n",
    "6. Fuctions\n",
    "7. Manejo de excepciones  \n"
   ]
  },
  {
   "cell_type": "markdown",
   "id": "8f61d727",
   "metadata": {},
   "source": [
    "* 1. Variables "
   ]
  },
  {
   "cell_type": "code",
   "execution_count": 10,
   "id": "302d8a32",
   "metadata": {},
   "outputs": [],
   "source": [
    "# Declarando variables \n",
    "monto_deuda=1000;\n",
    "moneda =\"Soles\";"
   ]
  },
  {
   "cell_type": "code",
   "execution_count": 11,
   "id": "2902add5",
   "metadata": {},
   "outputs": [],
   "source": [
    "monto_deuda;\n"
   ]
  },
  {
   "cell_type": "code",
   "execution_count": 12,
   "id": "e705bbbb",
   "metadata": {},
   "outputs": [],
   "source": [
    "moneda;"
   ]
  },
  {
   "cell_type": "code",
   "execution_count": null,
   "id": "faf98ba9",
   "metadata": {},
   "outputs": [],
   "source": [
    "# interactuar con el uusuario\n",
    "monto_interes=int(input(\"Ingrese el monto del interes: \"))"
   ]
  },
  {
   "cell_type": "code",
   "execution_count": 13,
   "id": "fa33756b",
   "metadata": {},
   "outputs": [],
   "source": [
    "#Oprenado con variables \n",
    "resultado=monto_deuda*4;\n",
    "resultado;"
   ]
  },
  {
   "cell_type": "code",
   "execution_count": 16,
   "id": "56c560f7",
   "metadata": {},
   "outputs": [],
   "source": [
    "# tipo de variables \n",
    "type(monto_deuda);"
   ]
  },
  {
   "cell_type": "code",
   "execution_count": 17,
   "id": "56411a9b",
   "metadata": {},
   "outputs": [],
   "source": [
    "type(moneda);"
   ]
  },
  {
   "cell_type": "code",
   "execution_count": 18,
   "id": "1e687925",
   "metadata": {},
   "outputs": [],
   "source": [
    "4*resultado;"
   ]
  },
  {
   "cell_type": "code",
   "execution_count": 19,
   "id": "b6b825d2",
   "metadata": {},
   "outputs": [],
   "source": [
    "# \n",
    "str_monto_deuda=str(monto_deuda); \n",
    "str_monto_deuda; "
   ]
  },
  {
   "cell_type": "code",
   "execution_count": null,
   "id": "937d7997",
   "metadata": {},
   "outputs": [],
   "source": []
  }
 ],
 "metadata": {
  "kernelspec": {
   "display_name": "mainenv",
   "language": "python",
   "name": "python3"
  },
  "language_info": {
   "codemirror_mode": {
    "name": "ipython",
    "version": 3
   },
   "file_extension": ".py",
   "mimetype": "text/x-python",
   "name": "python",
   "nbconvert_exporter": "python",
   "pygments_lexer": "ipython3",
   "version": "3.13.5"
  }
 },
 "nbformat": 4,
 "nbformat_minor": 5
}
